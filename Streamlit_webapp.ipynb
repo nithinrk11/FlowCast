{
  "cells": [
    {
      "cell_type": "markdown",
      "metadata": {
        "id": "view-in-github",
        "colab_type": "text"
      },
      "source": [
        "<a href=\"https://colab.research.google.com/github/nithinrk11/FlowCast/blob/main/Streamlit_webapp.ipynb\" target=\"_parent\"><img src=\"https://colab.research.google.com/assets/colab-badge.svg\" alt=\"Open In Colab\"/></a>"
      ]
    },
    {
      "cell_type": "markdown",
      "source": [
        "#This notebook includes all necessary code cells to install required backend code files and to execute and initiate the web-app interface of Project Flowcast"
      ],
      "metadata": {
        "id": "jlbPB6I5jypE"
      }
    },
    {
      "cell_type": "markdown",
      "source": [
        "###Below code cell clones my github repo and brings required files into colab environment."
      ],
      "metadata": {
        "id": "1U15Y_wqkYxj"
      }
    },
    {
      "cell_type": "code",
      "execution_count": null,
      "metadata": {
        "colab": {
          "base_uri": "https://localhost:8080/"
        },
        "id": "Pkn9JRjvEOzp",
        "outputId": "978e3067-500c-4e00-cbe5-c7ddef45f7a4"
      },
      "outputs": [
        {
          "name": "stdout",
          "output_type": "stream",
          "text": [
            "Cloning into 'FlowCast'...\n",
            "remote: Enumerating objects: 16, done.\u001b[K\n",
            "remote: Counting objects: 100% (16/16), done.\u001b[K\n",
            "remote: Compressing objects: 100% (13/13), done.\u001b[K\n",
            "remote: Total 16 (delta 3), reused 0 (delta 0), pack-reused 0\u001b[K\n",
            "Receiving objects: 100% (16/16), 196.65 KiB | 13.11 MiB/s, done.\n",
            "Resolving deltas: 100% (3/3), done.\n"
          ]
        }
      ],
      "source": [
        "!git clone https://github.com/nithinrk11/FlowCast.git\n",
        "%cd FlowCast"
      ]
    },
    {
      "cell_type": "markdown",
      "source": [
        "###Installing streamlit requirements"
      ],
      "metadata": {
        "id": "1uOSLkt3sZ6U"
      }
    },
    {
      "cell_type": "code",
      "execution_count": null,
      "metadata": {
        "id": "OCidfofvjqfu"
      },
      "outputs": [],
      "source": [
        "!pip install streamlit -q\n"
      ]
    },
    {
      "cell_type": "markdown",
      "source": [
        "###Temporary ip address generation for local tunnel website"
      ],
      "metadata": {
        "id": "LUfFkKTfsqb2"
      }
    },
    {
      "cell_type": "code",
      "execution_count": null,
      "metadata": {
        "colab": {
          "base_uri": "https://localhost:8080/"
        },
        "id": "HfwehXCBk2r6",
        "outputId": "5d92adb7-3043-4f51-f45b-e7973ac7f454"
      },
      "outputs": [
        {
          "output_type": "stream",
          "name": "stdout",
          "text": [
            "35.245.187.215\n"
          ]
        }
      ],
      "source": [
        "!wget -q -O - ipv4.icanhazip.com"
      ]
    },
    {
      "cell_type": "markdown",
      "source": [
        "##Initiating the Web App"
      ],
      "metadata": {
        "id": "qmBA2Z9DvXHE"
      }
    },
    {
      "cell_type": "code",
      "execution_count": null,
      "metadata": {
        "colab": {
          "base_uri": "https://localhost:8080/"
        },
        "id": "GoJv3kmEk6Bp",
        "outputId": "efb40b48-5884-4ed1-abdc-7358492fa870"
      },
      "outputs": [
        {
          "output_type": "stream",
          "name": "stdout",
          "text": [
            "[..................] \\ fetchMetadata: sill resolveWithNewModule localtunnel@2.0\u001b[0m\u001b[K\n",
            "Collecting usage statistics. To deactivate, set browser.gatherUsageStats to False.\n",
            "\u001b[0m\n",
            "\u001b[0m\n",
            "\u001b[34m\u001b[1m  You can now view your Streamlit app in your browser.\u001b[0m\n",
            "\u001b[0m\n",
            "\u001b[34m  Network URL: \u001b[0m\u001b[1mhttp://172.28.0.12:8501\u001b[0m\n",
            "\u001b[34m  External URL: \u001b[0m\u001b[1mhttp://35.245.187.215:8501\u001b[0m\n",
            "\u001b[0m\n",
            "\u001b[K\u001b[?25hnpx: installed 22 in 2.529s\n",
            "your url is: https://easy-otters-obey.loca.lt\n",
            "2023-10-27 12:43:59.662598: E tensorflow/compiler/xla/stream_executor/cuda/cuda_dnn.cc:9342] Unable to register cuDNN factory: Attempting to register factory for plugin cuDNN when one has already been registered\n",
            "2023-10-27 12:43:59.662677: E tensorflow/compiler/xla/stream_executor/cuda/cuda_fft.cc:609] Unable to register cuFFT factory: Attempting to register factory for plugin cuFFT when one has already been registered\n",
            "2023-10-27 12:43:59.662727: E tensorflow/compiler/xla/stream_executor/cuda/cuda_blas.cc:1518] Unable to register cuBLAS factory: Attempting to register factory for plugin cuBLAS when one has already been registered\n",
            "2023-10-27 12:43:59.678131: I tensorflow/core/platform/cpu_feature_guard.cc:182] This TensorFlow binary is optimized to use available CPU instructions in performance-critical operations.\n",
            "To enable the following instructions: AVX2 FMA, in other operations, rebuild TensorFlow with the appropriate compiler flags.\n",
            "2023-10-27 12:44:01.722324: W tensorflow/compiler/tf2tensorrt/utils/py_utils.cc:38] TF-TRT Warning: Could not find TensorRT\n",
            "/usr/local/lib/python3.10/dist-packages/sklearn/base.py:439: UserWarning: X does not have valid feature names, but DecisionTreeClassifier was fitted with feature names\n",
            "  warnings.warn(\n",
            "2023-10-27 12:44:10.493 Uncaught app exception\n",
            "Traceback (most recent call last):\n",
            "  File \"/usr/local/lib/python3.10/dist-packages/streamlit/runtime/scriptrunner/script_runner.py\", line 534, in _run_script\n",
            "    exec(code, module.__dict__)\n",
            "  File \"/content/app.py\", line 46, in <module>\n",
            "    main()\n",
            "  File \"/content/app.py\", line 34, in main\n",
            "    st.success(classify(dec.predict(inputs)))\n",
            "  File \"/usr/local/lib/python3.10/dist-packages/sklearn/tree/_classes.py\", line 426, in predict\n",
            "    X = self._validate_X_predict(X, check_input)\n",
            "  File \"/usr/local/lib/python3.10/dist-packages/sklearn/tree/_classes.py\", line 392, in _validate_X_predict\n",
            "    X = self._validate_data(X, dtype=DTYPE, accept_sparse=\"csr\", reset=False)\n",
            "  File \"/usr/local/lib/python3.10/dist-packages/sklearn/base.py\", line 565, in _validate_data\n",
            "    X = check_array(X, input_name=\"X\", **check_params)\n",
            "  File \"/usr/local/lib/python3.10/dist-packages/sklearn/utils/validation.py\", line 902, in check_array\n",
            "    raise ValueError(\n",
            "ValueError: Expected 2D array, got 1D array instead:\n",
            "array=[33.].\n",
            "Reshape your data either using array.reshape(-1, 1) if your data has a single feature or array.reshape(1, -1) if it contains a single sample.\n",
            "2023-10-27 12:44:27.555 Uncaught app exception\n",
            "Traceback (most recent call last):\n",
            "  File \"/usr/local/lib/python3.10/dist-packages/streamlit/runtime/scriptrunner/script_runner.py\", line 534, in _run_script\n",
            "    exec(code, module.__dict__)\n",
            "  File \"/content/app.py\", line 46, in <module>\n",
            "    main()\n",
            "  File \"/content/app.py\", line 40, in main\n",
            "    st.success(classify(xgb.predict(inputs)))\n",
            "NameError: name 'xgb' is not defined\n",
            "/usr/local/lib/python3.10/dist-packages/sklearn/base.py:439: UserWarning: X does not have valid feature names, but RandomForestClassifier was fitted with feature names\n",
            "  warnings.warn(\n",
            "2023-10-27 12:54:48.313 Uncaught app exception\n",
            "Traceback (most recent call last):\n",
            "  File \"/usr/local/lib/python3.10/dist-packages/streamlit/runtime/scriptrunner/script_runner.py\", line 534, in _run_script\n",
            "    exec(code, module.__dict__)\n",
            "  File \"/content/app.py\", line 46, in <module>\n",
            "    main()\n",
            "  File \"/content/app.py\", line 36, in main\n",
            "    st.success(classify(rf.predict(inputs)))\n",
            "  File \"/usr/local/lib/python3.10/dist-packages/sklearn/ensemble/_forest.py\", line 820, in predict\n",
            "    proba = self.predict_proba(X)\n",
            "  File \"/usr/local/lib/python3.10/dist-packages/sklearn/ensemble/_forest.py\", line 862, in predict_proba\n",
            "    X = self._validate_X_predict(X)\n",
            "  File \"/usr/local/lib/python3.10/dist-packages/sklearn/ensemble/_forest.py\", line 602, in _validate_X_predict\n",
            "    X = self._validate_data(X, dtype=DTYPE, accept_sparse=\"csr\", reset=False)\n",
            "  File \"/usr/local/lib/python3.10/dist-packages/sklearn/base.py\", line 565, in _validate_data\n",
            "    X = check_array(X, input_name=\"X\", **check_params)\n",
            "  File \"/usr/local/lib/python3.10/dist-packages/sklearn/utils/validation.py\", line 902, in check_array\n",
            "    raise ValueError(\n",
            "ValueError: Expected 2D array, got 1D array instead:\n",
            "array=[37.].\n",
            "Reshape your data either using array.reshape(-1, 1) if your data has a single feature or array.reshape(1, -1) if it contains a single sample.\n",
            "/usr/local/lib/python3.10/dist-packages/sklearn/base.py:439: UserWarning: X does not have valid feature names, but RandomForestClassifier was fitted with feature names\n",
            "  warnings.warn(\n",
            "2023-10-27 12:55:03.066 Uncaught app exception\n",
            "Traceback (most recent call last):\n",
            "  File \"/usr/local/lib/python3.10/dist-packages/streamlit/runtime/scriptrunner/script_runner.py\", line 534, in _run_script\n",
            "    exec(code, module.__dict__)\n",
            "  File \"/content/app.py\", line 46, in <module>\n",
            "    main()\n",
            "  File \"/content/app.py\", line 36, in main\n",
            "    st.success(classify(rf.predict(inputs)))\n",
            "  File \"/usr/local/lib/python3.10/dist-packages/sklearn/ensemble/_forest.py\", line 820, in predict\n",
            "    proba = self.predict_proba(X)\n",
            "  File \"/usr/local/lib/python3.10/dist-packages/sklearn/ensemble/_forest.py\", line 862, in predict_proba\n",
            "    X = self._validate_X_predict(X)\n",
            "  File \"/usr/local/lib/python3.10/dist-packages/sklearn/ensemble/_forest.py\", line 602, in _validate_X_predict\n",
            "    X = self._validate_data(X, dtype=DTYPE, accept_sparse=\"csr\", reset=False)\n",
            "  File \"/usr/local/lib/python3.10/dist-packages/sklearn/base.py\", line 565, in _validate_data\n",
            "    X = check_array(X, input_name=\"X\", **check_params)\n",
            "  File \"/usr/local/lib/python3.10/dist-packages/sklearn/utils/validation.py\", line 902, in check_array\n",
            "    raise ValueError(\n",
            "ValueError: Expected 2D array, got 1D array instead:\n",
            "array=[37.].\n",
            "Reshape your data either using array.reshape(-1, 1) if your data has a single feature or array.reshape(1, -1) if it contains a single sample.\n",
            "/usr/local/lib/python3.10/dist-packages/sklearn/base.py:439: UserWarning: X does not have valid feature names, but DecisionTreeClassifier was fitted with feature names\n",
            "  warnings.warn(\n",
            "2023-10-27 12:55:07.723 Uncaught app exception\n",
            "Traceback (most recent call last):\n",
            "  File \"/usr/local/lib/python3.10/dist-packages/streamlit/runtime/scriptrunner/script_runner.py\", line 534, in _run_script\n",
            "    exec(code, module.__dict__)\n",
            "  File \"/content/app.py\", line 46, in <module>\n",
            "    main()\n",
            "  File \"/content/app.py\", line 34, in main\n",
            "    st.success(classify(dec.predict(inputs)))\n",
            "  File \"/usr/local/lib/python3.10/dist-packages/sklearn/tree/_classes.py\", line 426, in predict\n",
            "    X = self._validate_X_predict(X, check_input)\n",
            "  File \"/usr/local/lib/python3.10/dist-packages/sklearn/tree/_classes.py\", line 392, in _validate_X_predict\n",
            "    X = self._validate_data(X, dtype=DTYPE, accept_sparse=\"csr\", reset=False)\n",
            "  File \"/usr/local/lib/python3.10/dist-packages/sklearn/base.py\", line 565, in _validate_data\n",
            "    X = check_array(X, input_name=\"X\", **check_params)\n",
            "  File \"/usr/local/lib/python3.10/dist-packages/sklearn/utils/validation.py\", line 902, in check_array\n",
            "    raise ValueError(\n",
            "ValueError: Expected 2D array, got 1D array instead:\n",
            "array=[37.].\n",
            "Reshape your data either using array.reshape(-1, 1) if your data has a single feature or array.reshape(1, -1) if it contains a single sample.\n",
            "1/1 [==============================] - 0s 162ms/step\n",
            "2023-10-27 12:55:11.474 Uncaught app exception\n",
            "Traceback (most recent call last):\n",
            "  File \"/usr/local/lib/python3.10/dist-packages/streamlit/runtime/scriptrunner/script_runner.py\", line 534, in _run_script\n",
            "    exec(code, module.__dict__)\n",
            "  File \"/content/app.py\", line 46, in <module>\n",
            "    main()\n",
            "  File \"/content/app.py\", line 42, in main\n",
            "    st.success(classify(model.predict(inputs)))\n",
            "  File \"/content/app.py\", line 13, in classify\n",
            "    if num <= 30:\n",
            "ValueError: The truth value of an array with more than one element is ambiguous. Use a.any() or a.all()\n",
            "/usr/local/lib/python3.10/dist-packages/sklearn/base.py:439: UserWarning: X does not have valid feature names, but DecisionTreeClassifier was fitted with feature names\n",
            "  warnings.warn(\n",
            "2023-10-27 12:55:19.053 Uncaught app exception\n",
            "Traceback (most recent call last):\n",
            "  File \"/usr/local/lib/python3.10/dist-packages/streamlit/runtime/scriptrunner/script_runner.py\", line 534, in _run_script\n",
            "    exec(code, module.__dict__)\n",
            "  File \"/content/app.py\", line 46, in <module>\n",
            "    main()\n",
            "  File \"/content/app.py\", line 34, in main\n",
            "    st.success(classify(dec.predict(inputs)))\n",
            "  File \"/usr/local/lib/python3.10/dist-packages/sklearn/tree/_classes.py\", line 426, in predict\n",
            "    X = self._validate_X_predict(X, check_input)\n",
            "  File \"/usr/local/lib/python3.10/dist-packages/sklearn/tree/_classes.py\", line 392, in _validate_X_predict\n",
            "    X = self._validate_data(X, dtype=DTYPE, accept_sparse=\"csr\", reset=False)\n",
            "  File \"/usr/local/lib/python3.10/dist-packages/sklearn/base.py\", line 565, in _validate_data\n",
            "    X = check_array(X, input_name=\"X\", **check_params)\n",
            "  File \"/usr/local/lib/python3.10/dist-packages/sklearn/utils/validation.py\", line 902, in check_array\n",
            "    raise ValueError(\n",
            "ValueError: Expected 2D array, got 1D array instead:\n",
            "array=[37.].\n",
            "Reshape your data either using array.reshape(-1, 1) if your data has a single feature or array.reshape(1, -1) if it contains a single sample.\n",
            "/usr/local/lib/python3.10/dist-packages/sklearn/base.py:439: UserWarning: X does not have valid feature names, but DecisionTreeClassifier was fitted with feature names\n",
            "  warnings.warn(\n",
            "2023-10-27 12:59:37.700 Uncaught app exception\n",
            "Traceback (most recent call last):\n",
            "  File \"/usr/local/lib/python3.10/dist-packages/streamlit/runtime/scriptrunner/script_runner.py\", line 534, in _run_script\n",
            "    exec(code, module.__dict__)\n",
            "  File \"/content/app.py\", line 48, in <module>\n",
            "    main()\n",
            "  File \"/content/app.py\", line 36, in main\n",
            "    st.success(classify(dec.predict(inputs)))\n",
            "  File \"/usr/local/lib/python3.10/dist-packages/sklearn/tree/_classes.py\", line 426, in predict\n",
            "    X = self._validate_X_predict(X, check_input)\n",
            "  File \"/usr/local/lib/python3.10/dist-packages/sklearn/tree/_classes.py\", line 392, in _validate_X_predict\n",
            "    X = self._validate_data(X, dtype=DTYPE, accept_sparse=\"csr\", reset=False)\n",
            "  File \"/usr/local/lib/python3.10/dist-packages/sklearn/base.py\", line 565, in _validate_data\n",
            "    X = check_array(X, input_name=\"X\", **check_params)\n",
            "  File \"/usr/local/lib/python3.10/dist-packages/sklearn/utils/validation.py\", line 902, in check_array\n",
            "    raise ValueError(\n",
            "ValueError: Expected 2D array, got 1D array instead:\n",
            "array=[37.].\n",
            "Reshape your data either using array.reshape(-1, 1) if your data has a single feature or array.reshape(1, -1) if it contains a single sample.\n"
          ]
        }
      ],
      "source": [
        "!streamlit run app2.py & npx localtunnel --port 8501"
      ]
    },
    {
      "cell_type": "markdown",
      "source": [
        "* Please copy paste the `IP` into the tunnel website by clicking the local tunnel webite link shown in the above code cell output `example link: https://easy-otters-obey.loca.lt` Each time the `!streamlit run...--port8501` code cell is executed you will be given new and unique local tunnel links."
      ],
      "metadata": {
        "id": "9Mq4spUmtjcV"
      }
    }
  ],
  "metadata": {
    "colab": {
      "provenance": [],
      "include_colab_link": true
    },
    "kernelspec": {
      "display_name": "Python 3",
      "name": "python3"
    },
    "language_info": {
      "name": "python"
    }
  },
  "nbformat": 4,
  "nbformat_minor": 0
}